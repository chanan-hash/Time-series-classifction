{
 "cells": [
  {
   "cell_type": "code",
   "execution_count": 1,
   "id": "de06e14e-564c-4b72-884e-10662defcfda",
   "metadata": {},
   "outputs": [],
   "source": [
    "import pandas as pd  # requires: pip install pandas\n",
    "import torch\n",
    "import numpy as np\n",
    "import matplotlib.pyplot as plt\n",
    "from chronos import ChronosPipeline"
   ]
  },
  {
   "cell_type": "code",
   "execution_count": 2,
   "id": "dca0c64b-e017-4245-b84a-f3f3b783da57",
   "metadata": {},
   "outputs": [],
   "source": [
    "pipeline = ChronosPipeline.from_pretrained(\n",
    "    \"amazon/chronos-t5-small\",\n",
    "    device_map=\"cpu\",  # use \"cpu\" for CPU inference and \"mps\" for Apple Silicon\n",
    "    torch_dtype=torch.bfloat16,\n",
    ")\n",
    "columns = [\"File name\",\"Source IP\",\"Source port\", \"Dest IP\", \"Dest port\",\"Protocol\", \"Epoch arival time\"]"
   ]
  },
  {
   "cell_type": "code",
   "execution_count": 38,
   "id": "c2c727b6-ffae-4270-b248-856d42c2d74d",
   "metadata": {},
   "outputs": [],
   "source": [
    "#df = pd.read_csv(\"mypcap.csv\", delimiter=\";\") # The seperator is ;\n",
    "#df = pd.read_csv(\"mypcap.csv\", names=columns,on_bad_lines=\"skip\") # Nicer wat to show it\n",
    "#df = pd.read_csv(\"mypcap.csv\", usecols=range(13))  # Adjust the number based on your data\n",
    "df = pd.read_csv(\"mypcap.csv\",on_bad_lines=\"skip\") # Nicer wat to show it\n",
    "\n"
   ]
  },
  {
   "cell_type": "code",
   "execution_count": 39,
   "id": "2e10d437-7e7c-45df-9292-8d8bb46444b8",
   "metadata": {},
   "outputs": [
    {
     "data": {
      "text/html": [
       "<div>\n",
       "<style scoped>\n",
       "    .dataframe tbody tr th:only-of-type {\n",
       "        vertical-align: middle;\n",
       "    }\n",
       "\n",
       "    .dataframe tbody tr th {\n",
       "        vertical-align: top;\n",
       "    }\n",
       "\n",
       "    .dataframe thead th {\n",
       "        text-align: right;\n",
       "    }\n",
       "</style>\n",
       "<table border=\"1\" class=\"dataframe\">\n",
       "  <thead>\n",
       "    <tr style=\"text-align: right;\">\n",
       "      <th></th>\n",
       "      <th>mypcap</th>\n",
       "      <th>157.240.251.61</th>\n",
       "      <th>5222</th>\n",
       "      <th>10.102.3.68</th>\n",
       "      <th>63033</th>\n",
       "      <th>TCP</th>\n",
       "      <th>1733063208.26297</th>\n",
       "      <th>2</th>\n",
       "      <th>0.0</th>\n",
       "      <th>0.066979</th>\n",
       "      <th>Unnamed: 10</th>\n",
       "      <th>104</th>\n",
       "      <th>40</th>\n",
       "    </tr>\n",
       "  </thead>\n",
       "  <tbody>\n",
       "    <tr>\n",
       "      <th>0</th>\n",
       "      <td>mypcap</td>\n",
       "      <td>10.102.3.68</td>\n",
       "      <td>63033</td>\n",
       "      <td>157.240.251.61</td>\n",
       "      <td>5222</td>\n",
       "      <td>TCP</td>\n",
       "      <td>1.733063e+09</td>\n",
       "      <td>1</td>\n",
       "      <td>0.0</td>\n",
       "      <td>NaN</td>\n",
       "      <td>86.0</td>\n",
       "      <td>NaN</td>\n",
       "      <td>NaN</td>\n",
       "    </tr>\n",
       "    <tr>\n",
       "      <th>1</th>\n",
       "      <td>mypcap</td>\n",
       "      <td>10.102.3.68</td>\n",
       "      <td>63185</td>\n",
       "      <td>146.112.61.107</td>\n",
       "      <td>8081</td>\n",
       "      <td>TCP</td>\n",
       "      <td>1.733063e+09</td>\n",
       "      <td>1</td>\n",
       "      <td>0.0</td>\n",
       "      <td>NaN</td>\n",
       "      <td>52.0</td>\n",
       "      <td>NaN</td>\n",
       "      <td>NaN</td>\n",
       "    </tr>\n",
       "    <tr>\n",
       "      <th>2</th>\n",
       "      <td>mypcap</td>\n",
       "      <td>10.102.3.68</td>\n",
       "      <td>63186</td>\n",
       "      <td>146.112.61.107</td>\n",
       "      <td>8081</td>\n",
       "      <td>TCP</td>\n",
       "      <td>1.733063e+09</td>\n",
       "      <td>1</td>\n",
       "      <td>0.0</td>\n",
       "      <td>NaN</td>\n",
       "      <td>52.0</td>\n",
       "      <td>NaN</td>\n",
       "      <td>NaN</td>\n",
       "    </tr>\n",
       "    <tr>\n",
       "      <th>3</th>\n",
       "      <td>mypcap</td>\n",
       "      <td>10.102.3.68</td>\n",
       "      <td>63204</td>\n",
       "      <td>208.67.222.222</td>\n",
       "      <td>53</td>\n",
       "      <td>TCP</td>\n",
       "      <td>1.733063e+09</td>\n",
       "      <td>1</td>\n",
       "      <td>0.0</td>\n",
       "      <td>NaN</td>\n",
       "      <td>52.0</td>\n",
       "      <td>NaN</td>\n",
       "      <td>NaN</td>\n",
       "    </tr>\n",
       "    <tr>\n",
       "      <th>4</th>\n",
       "      <td>mypcap</td>\n",
       "      <td>10.102.3.68</td>\n",
       "      <td>63215</td>\n",
       "      <td>208.67.222.222</td>\n",
       "      <td>53</td>\n",
       "      <td>TCP</td>\n",
       "      <td>1.733063e+09</td>\n",
       "      <td>1</td>\n",
       "      <td>0.0</td>\n",
       "      <td>NaN</td>\n",
       "      <td>52.0</td>\n",
       "      <td>NaN</td>\n",
       "      <td>NaN</td>\n",
       "    </tr>\n",
       "    <tr>\n",
       "      <th>5</th>\n",
       "      <td>mypcap</td>\n",
       "      <td>10.102.3.68</td>\n",
       "      <td>63217</td>\n",
       "      <td>208.67.220.220</td>\n",
       "      <td>53</td>\n",
       "      <td>TCP</td>\n",
       "      <td>1.733063e+09</td>\n",
       "      <td>1</td>\n",
       "      <td>0.0</td>\n",
       "      <td>NaN</td>\n",
       "      <td>52.0</td>\n",
       "      <td>NaN</td>\n",
       "      <td>NaN</td>\n",
       "    </tr>\n",
       "    <tr>\n",
       "      <th>6</th>\n",
       "      <td>mypcap</td>\n",
       "      <td>10.102.3.68</td>\n",
       "      <td>63182</td>\n",
       "      <td>151.101.193.91</td>\n",
       "      <td>443</td>\n",
       "      <td>TCP</td>\n",
       "      <td>1.733063e+09</td>\n",
       "      <td>2</td>\n",
       "      <td>0.0</td>\n",
       "      <td>0.044201</td>\n",
       "      <td>NaN</td>\n",
       "      <td>40.0</td>\n",
       "      <td>40.0</td>\n",
       "    </tr>\n",
       "    <tr>\n",
       "      <th>7</th>\n",
       "      <td>mypcap</td>\n",
       "      <td>10.102.3.68</td>\n",
       "      <td>63181</td>\n",
       "      <td>151.101.65.91</td>\n",
       "      <td>443</td>\n",
       "      <td>TCP</td>\n",
       "      <td>1.733063e+09</td>\n",
       "      <td>2</td>\n",
       "      <td>0.0</td>\n",
       "      <td>0.044906</td>\n",
       "      <td>NaN</td>\n",
       "      <td>40.0</td>\n",
       "      <td>40.0</td>\n",
       "    </tr>\n",
       "    <tr>\n",
       "      <th>8</th>\n",
       "      <td>mypcap</td>\n",
       "      <td>10.102.3.68</td>\n",
       "      <td>63239</td>\n",
       "      <td>208.67.220.220</td>\n",
       "      <td>53</td>\n",
       "      <td>TCP</td>\n",
       "      <td>1.733063e+09</td>\n",
       "      <td>1</td>\n",
       "      <td>0.0</td>\n",
       "      <td>NaN</td>\n",
       "      <td>52.0</td>\n",
       "      <td>NaN</td>\n",
       "      <td>NaN</td>\n",
       "    </tr>\n",
       "    <tr>\n",
       "      <th>9</th>\n",
       "      <td>mypcap</td>\n",
       "      <td>34.120.52.64</td>\n",
       "      <td>443</td>\n",
       "      <td>10.102.3.68</td>\n",
       "      <td>61921</td>\n",
       "      <td>TCP</td>\n",
       "      <td>1.733063e+09</td>\n",
       "      <td>2</td>\n",
       "      <td>0.0</td>\n",
       "      <td>0.059744</td>\n",
       "      <td>NaN</td>\n",
       "      <td>67.0</td>\n",
       "      <td>40.0</td>\n",
       "    </tr>\n",
       "    <tr>\n",
       "      <th>10</th>\n",
       "      <td>mypcap</td>\n",
       "      <td>10.102.3.68</td>\n",
       "      <td>61921</td>\n",
       "      <td>34.120.52.64</td>\n",
       "      <td>443</td>\n",
       "      <td>TCP</td>\n",
       "      <td>1.733063e+09</td>\n",
       "      <td>1</td>\n",
       "      <td>0.0</td>\n",
       "      <td>NaN</td>\n",
       "      <td>71.0</td>\n",
       "      <td>NaN</td>\n",
       "      <td>NaN</td>\n",
       "    </tr>\n",
       "    <tr>\n",
       "      <th>11</th>\n",
       "      <td>mypcap</td>\n",
       "      <td>10.102.3.68</td>\n",
       "      <td>63244</td>\n",
       "      <td>185.199.110.133</td>\n",
       "      <td>443</td>\n",
       "      <td>TCP</td>\n",
       "      <td>1.733063e+09</td>\n",
       "      <td>2</td>\n",
       "      <td>0.0</td>\n",
       "      <td>0.999950</td>\n",
       "      <td>NaN</td>\n",
       "      <td>52.0</td>\n",
       "      <td>52.0</td>\n",
       "    </tr>\n",
       "    <tr>\n",
       "      <th>12</th>\n",
       "      <td>mypcap</td>\n",
       "      <td>10.102.3.68</td>\n",
       "      <td>63247</td>\n",
       "      <td>208.67.220.220</td>\n",
       "      <td>53</td>\n",
       "      <td>TCP</td>\n",
       "      <td>1.733063e+09</td>\n",
       "      <td>1</td>\n",
       "      <td>0.0</td>\n",
       "      <td>NaN</td>\n",
       "      <td>52.0</td>\n",
       "      <td>NaN</td>\n",
       "      <td>NaN</td>\n",
       "    </tr>\n",
       "    <tr>\n",
       "      <th>13</th>\n",
       "      <td>mypcap</td>\n",
       "      <td>10.102.3.68</td>\n",
       "      <td>63248</td>\n",
       "      <td>208.67.220.220</td>\n",
       "      <td>53</td>\n",
       "      <td>TCP</td>\n",
       "      <td>1.733063e+09</td>\n",
       "      <td>1</td>\n",
       "      <td>0.0</td>\n",
       "      <td>NaN</td>\n",
       "      <td>52.0</td>\n",
       "      <td>NaN</td>\n",
       "      <td>NaN</td>\n",
       "    </tr>\n",
       "    <tr>\n",
       "      <th>14</th>\n",
       "      <td>mypcap</td>\n",
       "      <td>208.67.220.220</td>\n",
       "      <td>53</td>\n",
       "      <td>10.102.3.68</td>\n",
       "      <td>63247</td>\n",
       "      <td>TCP</td>\n",
       "      <td>1.733063e+09</td>\n",
       "      <td>2</td>\n",
       "      <td>0.0</td>\n",
       "      <td>1.027513</td>\n",
       "      <td>NaN</td>\n",
       "      <td>52.0</td>\n",
       "      <td>52.0</td>\n",
       "    </tr>\n",
       "    <tr>\n",
       "      <th>15</th>\n",
       "      <td>mypcap</td>\n",
       "      <td>208.67.220.220</td>\n",
       "      <td>53</td>\n",
       "      <td>10.102.3.68</td>\n",
       "      <td>63248</td>\n",
       "      <td>TCP</td>\n",
       "      <td>1.733063e+09</td>\n",
       "      <td>2</td>\n",
       "      <td>0.0</td>\n",
       "      <td>1.004809</td>\n",
       "      <td>NaN</td>\n",
       "      <td>52.0</td>\n",
       "      <td>52.0</td>\n",
       "    </tr>\n",
       "    <tr>\n",
       "      <th>16</th>\n",
       "      <td>mypcap</td>\n",
       "      <td>10.102.3.68</td>\n",
       "      <td>63251</td>\n",
       "      <td>208.67.222.222</td>\n",
       "      <td>53</td>\n",
       "      <td>TCP</td>\n",
       "      <td>1.733063e+09</td>\n",
       "      <td>1</td>\n",
       "      <td>0.0</td>\n",
       "      <td>NaN</td>\n",
       "      <td>52.0</td>\n",
       "      <td>NaN</td>\n",
       "      <td>NaN</td>\n",
       "    </tr>\n",
       "    <tr>\n",
       "      <th>17</th>\n",
       "      <td>mypcap</td>\n",
       "      <td>10.102.3.68</td>\n",
       "      <td>62450</td>\n",
       "      <td>208.67.222.222</td>\n",
       "      <td>53</td>\n",
       "      <td>UDP</td>\n",
       "      <td>1.733063e+09</td>\n",
       "      <td>1</td>\n",
       "      <td>0.0</td>\n",
       "      <td>NaN</td>\n",
       "      <td>68.0</td>\n",
       "      <td>NaN</td>\n",
       "      <td>NaN</td>\n",
       "    </tr>\n",
       "    <tr>\n",
       "      <th>18</th>\n",
       "      <td>mypcap</td>\n",
       "      <td>208.67.222.222</td>\n",
       "      <td>53</td>\n",
       "      <td>10.102.3.68</td>\n",
       "      <td>62450</td>\n",
       "      <td>UDP</td>\n",
       "      <td>1.733063e+09</td>\n",
       "      <td>1</td>\n",
       "      <td>0.0</td>\n",
       "      <td>NaN</td>\n",
       "      <td>84.0</td>\n",
       "      <td>NaN</td>\n",
       "      <td>NaN</td>\n",
       "    </tr>\n",
       "    <tr>\n",
       "      <th>19</th>\n",
       "      <td>mypcap</td>\n",
       "      <td>10.102.3.68</td>\n",
       "      <td>63256</td>\n",
       "      <td>146.112.61.107</td>\n",
       "      <td>8081</td>\n",
       "      <td>TCP</td>\n",
       "      <td>1.733063e+09</td>\n",
       "      <td>2</td>\n",
       "      <td>0.0</td>\n",
       "      <td>1.000588</td>\n",
       "      <td>NaN</td>\n",
       "      <td>52.0</td>\n",
       "      <td>52.0</td>\n",
       "    </tr>\n",
       "    <tr>\n",
       "      <th>20</th>\n",
       "      <td>mypcap</td>\n",
       "      <td>10.102.3.68</td>\n",
       "      <td>63255</td>\n",
       "      <td>146.112.61.107</td>\n",
       "      <td>8081</td>\n",
       "      <td>TCP</td>\n",
       "      <td>1.733063e+09</td>\n",
       "      <td>2</td>\n",
       "      <td>0.0</td>\n",
       "      <td>1.000609</td>\n",
       "      <td>NaN</td>\n",
       "      <td>52.0</td>\n",
       "      <td>52.0</td>\n",
       "    </tr>\n",
       "    <tr>\n",
       "      <th>21</th>\n",
       "      <td>mypcap</td>\n",
       "      <td>34.120.52.64</td>\n",
       "      <td>443</td>\n",
       "      <td>10.102.3.68</td>\n",
       "      <td>61914</td>\n",
       "      <td>TCP</td>\n",
       "      <td>1.733063e+09</td>\n",
       "      <td>2</td>\n",
       "      <td>0.0</td>\n",
       "      <td>0.052528</td>\n",
       "      <td>NaN</td>\n",
       "      <td>67.0</td>\n",
       "      <td>40.0</td>\n",
       "    </tr>\n",
       "    <tr>\n",
       "      <th>22</th>\n",
       "      <td>mypcap</td>\n",
       "      <td>10.102.3.68</td>\n",
       "      <td>61914</td>\n",
       "      <td>34.120.52.64</td>\n",
       "      <td>443</td>\n",
       "      <td>TCP</td>\n",
       "      <td>1.733063e+09</td>\n",
       "      <td>1</td>\n",
       "      <td>0.0</td>\n",
       "      <td>NaN</td>\n",
       "      <td>71.0</td>\n",
       "      <td>NaN</td>\n",
       "      <td>NaN</td>\n",
       "    </tr>\n",
       "  </tbody>\n",
       "</table>\n",
       "</div>"
      ],
      "text/plain": [
       "    mypcap  157.240.251.61   5222      10.102.3.68  63033  TCP  \\\n",
       "0   mypcap     10.102.3.68  63033   157.240.251.61   5222  TCP   \n",
       "1   mypcap     10.102.3.68  63185   146.112.61.107   8081  TCP   \n",
       "2   mypcap     10.102.3.68  63186   146.112.61.107   8081  TCP   \n",
       "3   mypcap     10.102.3.68  63204   208.67.222.222     53  TCP   \n",
       "4   mypcap     10.102.3.68  63215   208.67.222.222     53  TCP   \n",
       "5   mypcap     10.102.3.68  63217   208.67.220.220     53  TCP   \n",
       "6   mypcap     10.102.3.68  63182   151.101.193.91    443  TCP   \n",
       "7   mypcap     10.102.3.68  63181    151.101.65.91    443  TCP   \n",
       "8   mypcap     10.102.3.68  63239   208.67.220.220     53  TCP   \n",
       "9   mypcap    34.120.52.64    443      10.102.3.68  61921  TCP   \n",
       "10  mypcap     10.102.3.68  61921     34.120.52.64    443  TCP   \n",
       "11  mypcap     10.102.3.68  63244  185.199.110.133    443  TCP   \n",
       "12  mypcap     10.102.3.68  63247   208.67.220.220     53  TCP   \n",
       "13  mypcap     10.102.3.68  63248   208.67.220.220     53  TCP   \n",
       "14  mypcap  208.67.220.220     53      10.102.3.68  63247  TCP   \n",
       "15  mypcap  208.67.220.220     53      10.102.3.68  63248  TCP   \n",
       "16  mypcap     10.102.3.68  63251   208.67.222.222     53  TCP   \n",
       "17  mypcap     10.102.3.68  62450   208.67.222.222     53  UDP   \n",
       "18  mypcap  208.67.222.222     53      10.102.3.68  62450  UDP   \n",
       "19  mypcap     10.102.3.68  63256   146.112.61.107   8081  TCP   \n",
       "20  mypcap     10.102.3.68  63255   146.112.61.107   8081  TCP   \n",
       "21  mypcap    34.120.52.64    443      10.102.3.68  61914  TCP   \n",
       "22  mypcap     10.102.3.68  61914     34.120.52.64    443  TCP   \n",
       "\n",
       "    1733063208.26297  2  0.0  0.066979  Unnamed: 10   104    40  \n",
       "0       1.733063e+09  1  0.0       NaN         86.0   NaN   NaN  \n",
       "1       1.733063e+09  1  0.0       NaN         52.0   NaN   NaN  \n",
       "2       1.733063e+09  1  0.0       NaN         52.0   NaN   NaN  \n",
       "3       1.733063e+09  1  0.0       NaN         52.0   NaN   NaN  \n",
       "4       1.733063e+09  1  0.0       NaN         52.0   NaN   NaN  \n",
       "5       1.733063e+09  1  0.0       NaN         52.0   NaN   NaN  \n",
       "6       1.733063e+09  2  0.0  0.044201          NaN  40.0  40.0  \n",
       "7       1.733063e+09  2  0.0  0.044906          NaN  40.0  40.0  \n",
       "8       1.733063e+09  1  0.0       NaN         52.0   NaN   NaN  \n",
       "9       1.733063e+09  2  0.0  0.059744          NaN  67.0  40.0  \n",
       "10      1.733063e+09  1  0.0       NaN         71.0   NaN   NaN  \n",
       "11      1.733063e+09  2  0.0  0.999950          NaN  52.0  52.0  \n",
       "12      1.733063e+09  1  0.0       NaN         52.0   NaN   NaN  \n",
       "13      1.733063e+09  1  0.0       NaN         52.0   NaN   NaN  \n",
       "14      1.733063e+09  2  0.0  1.027513          NaN  52.0  52.0  \n",
       "15      1.733063e+09  2  0.0  1.004809          NaN  52.0  52.0  \n",
       "16      1.733063e+09  1  0.0       NaN         52.0   NaN   NaN  \n",
       "17      1.733063e+09  1  0.0       NaN         68.0   NaN   NaN  \n",
       "18      1.733063e+09  1  0.0       NaN         84.0   NaN   NaN  \n",
       "19      1.733063e+09  2  0.0  1.000588          NaN  52.0  52.0  \n",
       "20      1.733063e+09  2  0.0  1.000609          NaN  52.0  52.0  \n",
       "21      1.733063e+09  2  0.0  0.052528          NaN  67.0  40.0  \n",
       "22      1.733063e+09  1  0.0       NaN         71.0   NaN   NaN  "
      ]
     },
     "execution_count": 39,
     "metadata": {},
     "output_type": "execute_result"
    }
   ],
   "source": [
    "df"
   ]
  },
  {
   "cell_type": "code",
   "execution_count": 40,
   "id": "625bf94a-c4d6-4574-a09a-54ee33284f91",
   "metadata": {},
   "outputs": [
    {
     "data": {
      "text/plain": [
       "(23, 13)"
      ]
     },
     "execution_count": 40,
     "metadata": {},
     "output_type": "execute_result"
    }
   ],
   "source": [
    "df.shape"
   ]
  },
  {
   "cell_type": "code",
   "execution_count": 41,
   "id": "c3ba2768-340e-442a-95f5-a1d79a0aafa7",
   "metadata": {},
   "outputs": [
    {
     "name": "stdout",
     "output_type": "stream",
     "text": [
      "0    TCP\n",
      "1    TCP\n",
      "2    TCP\n",
      "3    TCP\n",
      "4    TCP\n",
      "Name: TCP, dtype: object\n"
     ]
    }
   ],
   "source": [
    "df[\"TCP\"]\n",
    "print(df[\"TCP\"].head())"
   ]
  },
  {
   "cell_type": "code",
   "execution_count": 43,
   "id": "17562fef-31ce-421a-98d3-3601a6fab355",
   "metadata": {},
   "outputs": [
    {
     "name": "stdout",
     "output_type": "stream",
     "text": [
      "0     TCP\n",
      "1     TCP\n",
      "2     TCP\n",
      "3     TCP\n",
      "4     TCP\n",
      "5     TCP\n",
      "6     TCP\n",
      "7     TCP\n",
      "8     TCP\n",
      "9     TCP\n",
      "10    TCP\n",
      "11    TCP\n",
      "12    TCP\n",
      "13    TCP\n",
      "14    TCP\n",
      "15    TCP\n",
      "16    TCP\n",
      "17    UDP\n",
      "18    UDP\n",
      "19    TCP\n",
      "Name: TCP, dtype: object\n",
      "object\n",
      "['TCP' 'UDP']\n"
     ]
    }
   ],
   "source": [
    "print(df[\"TCP\"].head(20))\n",
    "print(df[\"TCP\"].dtypes)\n",
    "print(df[\"TCP\"].unique())  # Shows all unique values in the column"
   ]
  },
  {
   "cell_type": "code",
   "execution_count": 45,
   "id": "ad3cc949-c22c-4a97-bf6a-283efd5fcd42",
   "metadata": {},
   "outputs": [
    {
     "data": {
      "text/plain": [
       "0     TCP\n",
       "1     TCP\n",
       "2     TCP\n",
       "3     TCP\n",
       "4     TCP\n",
       "5     TCP\n",
       "6     TCP\n",
       "7     TCP\n",
       "8     TCP\n",
       "9     TCP\n",
       "10    TCP\n",
       "11    TCP\n",
       "12    TCP\n",
       "13    TCP\n",
       "14    TCP\n",
       "15    TCP\n",
       "16    TCP\n",
       "17    UDP\n",
       "18    UDP\n",
       "19    TCP\n",
       "20    TCP\n",
       "21    TCP\n",
       "22    TCP\n",
       "Name: TCP, dtype: object"
      ]
     },
     "execution_count": 45,
     "metadata": {},
     "output_type": "execute_result"
    }
   ],
   "source": [
    "df[\"TCP\"] = df[\"TCP\"].str.strip()\n",
    "df[\"TCP\"]"
   ]
  },
  {
   "cell_type": "code",
   "execution_count": 46,
   "id": "817f7b26-6ee5-4a94-a1df-4f7c7a1e7a51",
   "metadata": {},
   "outputs": [
    {
     "name": "stdout",
     "output_type": "stream",
     "text": [
      "['TCP' 'UDP']\n"
     ]
    }
   ],
   "source": [
    "from sklearn.preprocessing import LabelEncoder\n",
    "\n",
    "le = LabelEncoder()\n",
    "df[\"TCP\"] = le.fit_transform(df[\"TCP\"].astype(str))\n",
    "print(le.classes_)  # Optional: Shows the mapping of labels to numbers"
   ]
  },
  {
   "cell_type": "code",
   "execution_count": 48,
   "id": "93c52b4e-79e4-4a73-bb9b-5c032a8e7c0d",
   "metadata": {},
   "outputs": [
    {
     "name": "stdout",
     "output_type": "stream",
     "text": [
      "0\n"
     ]
    }
   ],
   "source": [
    "print(df[\"TCP\"].isna().sum())"
   ]
  },
  {
   "cell_type": "code",
   "execution_count": 49,
   "id": "3d21c59a-1f43-4fe8-b38a-728ddcf23f10",
   "metadata": {},
   "outputs": [],
   "source": [
    "forecast = pipeline.predict(\n",
    "    context=torch.tensor(df[\"TCP\"].dropna().values, dtype=torch.float32),\n",
    "    prediction_length=12\n",
    ")"
   ]
  },
  {
   "cell_type": "markdown",
   "id": "4c0a2e74-fb4e-4993-804c-883f5fad49e7",
   "metadata": {},
   "source": [
    "# Data exploration"
   ]
  },
  {
   "cell_type": "code",
   "execution_count": 50,
   "id": "001f707e-8a03-4385-929c-eb631d491952",
   "metadata": {},
   "outputs": [
    {
     "data": {
      "text/plain": [
       "0.08695652173913043"
      ]
     },
     "execution_count": 50,
     "metadata": {},
     "output_type": "execute_result"
    }
   ],
   "source": [
    "df['TCP'].mean()"
   ]
  },
  {
   "cell_type": "code",
   "execution_count": 51,
   "id": "82c364ac-0c87-4838-95b7-183864b5903f",
   "metadata": {},
   "outputs": [
    {
     "data": {
      "text/plain": [
       "<Axes: xlabel='TCP', ylabel='Count'>"
      ]
     },
     "execution_count": 51,
     "metadata": {},
     "output_type": "execute_result"
    },
    {
     "data": {
      "image/png": "[encoded data removed]",
      "text/plain": [
       "<Figure size 640x480 with 1 Axes>"
      ]
     },
     "metadata": {},
     "output_type": "display_data"
    }
   ],
   "source": [
    "import seaborn as sns\n",
    "sns.histplot(df['TCP'])#,kde = True, bins=50)"
   ]
  },
  {
   "cell_type": "code",
   "execution_count": 54,
   "id": "afad3549-daa3-462d-817e-9166a3e5345a",
   "metadata": {},
   "outputs": [
    {
     "data": {
      "image/png": "[encoded data removed]",
      "text/plain": [
       "<Figure size 640x480 with 1 Axes>"
      ]
     },
     "metadata": {},
     "output_type": "display_data"
    }
   ],
   "source": [
    "var = '157.240.251.61'\n",
    "data = pd.concat([df['TCP'], df[var]], axis=1)\n",
    "data.plot.scatter(x=var, y='TCP', ylim=(0,10)); # do not `assume here any thing this is just examples\n",
    "plt.show() # Display"
   ]
  },
  {
   "cell_type": "code",
   "execution_count": 57,
   "id": "faeb1b32-92bb-4085-865c-8831903c4f6d",
   "metadata": {},
   "outputs": [
    {
     "data": {
      "image/png": "[encoded data removed]",
      "text/plain": [
       "<Figure size 1000x600 with 1 Axes>"
      ]
     },
     "metadata": {},
     "output_type": "display_data"
    }
   ],
   "source": [
    "plt.figure(figsize=(10, 6))\n",
    "sns.lineplot(data=df, x='63033', y='TCP', marker='o', label='protocol')\n",
    "\n",
    "# Add labels, title, and legend\n",
    "plt.xlabel('port', fontsize=12)\n",
    "plt.ylabel('protocol type', fontsize=12)\n",
    "plt.title('display', fontsize=14)\n",
    "plt.xticks(rotation=45)  # Rotate x-axis labels\n",
    "plt.legend()\n",
    "plt.grid(alpha=0.5)  # Add a light grid\n",
    "plt.tight_layout()\n",
    "plt.show()"
   ]
  },
  {
   "cell_type": "code",
   "execution_count": 58,
   "id": "29b9aba6-3c74-4ffb-a52c-5cd556fd2911",
   "metadata": {},
   "outputs": [
    {
     "name": "stdout",
     "output_type": "stream",
     "text": [
      "<class 'pandas.core.frame.DataFrame'>\n",
      "RangeIndex: 23 entries, 0 to 22\n",
      "Data columns (total 13 columns):\n",
      " #   Column            Non-Null Count  Dtype  \n",
      "---  ------            --------------  -----  \n",
      " 0   mypcap            23 non-null     object \n",
      " 1   157.240.251.61    23 non-null     object \n",
      " 2   5222              23 non-null     int64  \n",
      " 3   10.102.3.68       23 non-null     object \n",
      " 4   63033             23 non-null     int64  \n",
      " 5   TCP               23 non-null     int32  \n",
      " 6   1733063208.26297  23 non-null     float64\n",
      " 7   2                 23 non-null     int64  \n",
      " 8   0.0               23 non-null     float64\n",
      " 9   0.066979          9 non-null      float64\n",
      " 10  Unnamed: 10       14 non-null     float64\n",
      " 11  104               9 non-null      float64\n",
      " 12  40                9 non-null      float64\n",
      "dtypes: float64(6), int32(1), int64(3), object(3)\n",
      "memory usage: 2.4+ KB\n"
     ]
    }
   ],
   "source": [
    "df.info()"
   ]
  },
  {
   "cell_type": "code",
   "execution_count": 70,
   "id": "7b8dc544-72c1-423e-b8e0-02036eeb175f",
   "metadata": {},
   "outputs": [
    {
     "data": {
      "image/png": "[encoded data removed]",
      "text/plain": [
       "<Figure size 800x400 with 1 Axes>"
      ]
     },
     "metadata": {},
     "output_type": "display_data"
    }
   ],
   "source": [
    "# X-axis for historical and forecast data\n",
    "historical_index = range(len(df))  # x-axis for historical data\n",
    "forecast_index = range(len(df), len(df) + 12)  # x-axis for forecast\n",
    "\n",
    "# Compute forecast quantiles\n",
    "low, median, high = np.quantile(forecast[0].numpy(), [0.1, 0.5, 0.9], axis=0)\n",
    "\n",
    "# Plotting\n",
    "plt.figure(figsize=(8, 4))\n",
    "\n",
    "# Historical data\n",
    "plt.plot(historical_index, df[\"TCP\"], color=\"royalblue\", label=\"historical data\")\n",
    "\n",
    "# Forecast data\n",
    "plt.plot(forecast_index, median, color=\"tomato\", label=\"median forecast\")\n",
    "plt.fill_between(forecast_index, low, high, color=\"tomato\", alpha=0.3, label=\"80% prediction interval\")\n",
    "\n",
    "# Add legend and grid\n",
    "plt.legend()\n",
    "plt.grid()\n",
    "plt.show()\n"
   ]
  },
  {
   "cell_type": "markdown",
   "id": "d4ca8073-280a-484e-8ccb-8cc75ea05642",
   "metadata": {},
   "source": [
    "# Using feature selection for the csv"
   ]
  },
  {
   "cell_type": "markdown",
   "id": "f2f0c623-d185-4b25-855c-0ce86cecbf0c",
   "metadata": {},
   "source": [
    "## Using select K-best"
   ]
  },
  {
   "cell_type": "code",
   "execution_count": null,
   "id": "61b3e371-0f16-4caf-826b-c5ac78cf39b0",
   "metadata": {},
   "outputs": [],
   "source": []
  }
 ],
 "metadata": {
  "kernelspec": {
   "display_name": "Python 3 (ipykernel)",
   "language": "python",
   "name": "python3"
  },
  "language_info": {
   "codemirror_mode": {
    "name": "ipython",
    "version": 3
   },
   "file_extension": ".py",
   "mimetype": "text/x-python",
   "name": "python",
   "nbconvert_exporter": "python",
   "pygments_lexer": "ipython3",
   "version": "3.12.7"
  }
 },
 "nbformat": 4,
 "nbformat_minor": 5
}
